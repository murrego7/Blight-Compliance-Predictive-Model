{
 "cells": [
  {
   "cell_type": "markdown",
   "metadata": {},
   "source": [
    "---\n",
    "\n",
    "_You are currently looking at **version 1.1** of this notebook. To download notebooks and datafiles, as well as get help on Jupyter notebooks in the Coursera platform, visit the [Jupyter Notebook FAQ](https://www.coursera.org/learn/python-machine-learning/resources/bANLa) course resource._\n",
    "\n",
    "---"
   ]
  },
  {
   "cell_type": "markdown",
   "metadata": {},
   "source": [
    "## Assignment 4 - Understanding and Predicting Property Maintenance Fines\n",
    "\n",
    "This assignment is based on a data challenge from the Michigan Data Science Team ([MDST](http://midas.umich.edu/mdst/)). \n",
    "\n",
    "The Michigan Data Science Team ([MDST](http://midas.umich.edu/mdst/)) and the Michigan Student Symposium for Interdisciplinary Statistical Sciences ([MSSISS](https://sites.lsa.umich.edu/mssiss/)) have partnered with the City of Detroit to help solve one of the most pressing problems facing Detroit - blight. [Blight violations](http://www.detroitmi.gov/How-Do-I/Report/Blight-Complaint-FAQs) are issued by the city to individuals who allow their properties to remain in a deteriorated condition. Every year, the city of Detroit issues millions of dollars in fines to residents and every year, many of these fines remain unpaid. Enforcing unpaid blight fines is a costly and tedious process, so the city wants to know: how can we increase blight ticket compliance?\n",
    "\n",
    "The first step in answering this question is understanding when and why a resident might fail to comply with a blight ticket. This is where predictive modeling comes in. For this assignment, your task is to predict whether a given blight ticket will be paid on time.\n",
    "\n",
    "All data for this assignment has been provided to us through the [Detroit Open Data Portal](https://data.detroitmi.gov/). **Only the data already included in your Coursera directory can be used for training the model for this assignment.** Nonetheless, we encourage you to look into data from other Detroit datasets to help inform feature creation and model selection. We recommend taking a look at the following related datasets:\n",
    "\n",
    "* [Building Permits](https://data.detroitmi.gov/Property-Parcels/Building-Permits/xw2a-a7tf)\n",
    "* [Trades Permits](https://data.detroitmi.gov/Property-Parcels/Trades-Permits/635b-dsgv)\n",
    "* [Improve Detroit: Submitted Issues](https://data.detroitmi.gov/Government/Improve-Detroit-Submitted-Issues/fwz3-w3yn)\n",
    "* [DPD: Citizen Complaints](https://data.detroitmi.gov/Public-Safety/DPD-Citizen-Complaints-2016/kahe-efs3)\n",
    "* [Parcel Map](https://data.detroitmi.gov/Property-Parcels/Parcel-Map/fxkw-udwf)\n",
    "\n",
    "___\n",
    "\n",
    "We provide you with two data files for use in training and validating your models: train.csv and test.csv. Each row in these two files corresponds to a single blight ticket, and includes information about when, why, and to whom each ticket was issued. The target variable is compliance, which is True if the ticket was paid early, on time, or within one month of the hearing data, False if the ticket was paid after the hearing date or not at all, and Null if the violator was found not responsible. Compliance, as well as a handful of other variables that will not be available at test-time, are only included in train.csv.\n",
    "\n",
    "Note: All tickets where the violators were found not responsible are not considered during evaluation. They are included in the training set as an additional source of data for visualization, and to enable unsupervised and semi-supervised approaches. However, they are not included in the test set.\n",
    "\n",
    "<br>\n",
    "\n",
    "**File descriptions** (Use only this data for training your model!)\n",
    "\n",
    "    readonly/train.csv - the training set (all tickets issued 2004-2011)\n",
    "    readonly/test.csv - the test set (all tickets issued 2012-2016)\n",
    "    readonly/addresses.csv & readonly/latlons.csv - mapping from ticket id to addresses, and from addresses to lat/lon coordinates. \n",
    "     Note: misspelled addresses may be incorrectly geolocated.\n",
    "\n",
    "<br>\n",
    "\n",
    "**Data fields**\n",
    "\n",
    "train.csv & test.csv\n",
    "\n",
    "    ticket_id - unique identifier for tickets\n",
    "    agency_name - Agency that issued the ticket\n",
    "    inspector_name - Name of inspector that issued the ticket\n",
    "    violator_name - Name of the person/organization that the ticket was issued to\n",
    "    violation_street_number, violation_street_name, violation_zip_code - Address where the violation occurred\n",
    "    mailing_address_str_number, mailing_address_str_name, city, state, zip_code, non_us_str_code, country - Mailing address of the violator\n",
    "    ticket_issued_date - Date and time the ticket was issued\n",
    "    hearing_date - Date and time the violator's hearing was scheduled\n",
    "    violation_code, violation_description - Type of violation\n",
    "    disposition - Judgment and judgement type\n",
    "    fine_amount - Violation fine amount, excluding fees\n",
    "    admin_fee - $20 fee assigned to responsible judgments\n",
    "state_fee - $10 fee assigned to responsible judgments\n",
    "    late_fee - 10% fee assigned to responsible judgments\n",
    "    discount_amount - discount applied, if any\n",
    "    clean_up_cost - DPW clean-up or graffiti removal cost\n",
    "    judgment_amount - Sum of all fines and fees\n",
    "    grafitti_status - Flag for graffiti violations\n",
    "    \n",
    "train.csv only\n",
    "\n",
    "    payment_amount - Amount paid, if any\n",
    "    payment_date - Date payment was made, if it was received\n",
    "    payment_status - Current payment status as of Feb 1 2017\n",
    "    balance_due - Fines and fees still owed\n",
    "    collection_status - Flag for payments in collections\n",
    "    compliance [target variable for prediction] \n",
    "     Null = Not responsible\n",
    "     0 = Responsible, non-compliant\n",
    "     1 = Responsible, compliant\n",
    "    compliance_detail - More information on why each ticket was marked compliant or non-compliant\n",
    "\n",
    "\n",
    "___\n",
    "\n",
    "## Evaluation\n",
    "\n",
    "Your predictions will be given as the probability that the corresponding blight ticket will be paid on time.\n",
    "\n",
    "The evaluation metric for this assignment is the Area Under the ROC Curve (AUC). \n",
    "\n",
    "Your grade will be based on the AUC score computed for your classifier. A model which with an AUROC of 0.7 passes this assignment, over 0.75 will recieve full points.\n",
    "___\n",
    "\n",
    "For this assignment, create a function that trains a model to predict blight ticket compliance in Detroit using `readonly/train.csv`. Using this model, return a series of length 61001 with the data being the probability that each corresponding ticket from `readonly/test.csv` will be paid, and the index being the ticket_id.\n",
    "\n",
    "Example:\n",
    "\n",
    "    ticket_id\n",
    "       284932    0.531842\n",
    "       285362    0.401958\n",
    "       285361    0.105928\n",
    "       285338    0.018572\n",
    "                 ...\n",
    "       376499    0.208567\n",
    "       376500    0.818759\n",
    "       369851    0.018528\n",
    "       Name: compliance, dtype: float32\n",
    "       \n",
    "### Hints\n",
    "\n",
    "* Make sure your code is working before submitting it to the autograder.\n",
    "\n",
    "* Print out your result to see whether there is anything weird (e.g., all probabilities are the same).\n",
    "\n",
    "* Generally the total runtime should be less than 10 mins. You should NOT use Neural Network related classifiers (e.g., MLPClassifier) in this question. \n",
    "\n",
    "* Try to avoid global variables. If you have other functions besides blight_model, you should move those functions inside the scope of blight_model.\n",
    "\n",
    "* Refer to the pinned threads in Week 4's discussion forum when there is something you could not figure it out."
   ]
  },
  {
   "cell_type": "code",
   "execution_count": 56,
   "metadata": {
    "collapsed": false
   },
   "outputs": [
    {
     "name": "stderr",
     "output_type": "stream",
     "text": [
      "/opt/conda/lib/python3.6/site-packages/IPython/core/interactiveshell.py:2717: DtypeWarning: Columns (11,12,31) have mixed types. Specify dtype option on import or set low_memory=False.\n",
      "  interactivity=interactivity, compiler=compiler, result=result)\n"
     ]
    },
    {
     "name": "stdout",
     "output_type": "stream",
     "text": [
      "Index(['ticket_id', 'agency_name', 'inspector_name', 'violator_name',\n",
      "       'violation_street_number', 'violation_street_name',\n",
      "       'violation_zip_code', 'mailing_address_str_number',\n",
      "       'mailing_address_str_name', 'city', 'state', 'zip_code',\n",
      "       'non_us_str_code', 'country', 'ticket_issued_date', 'hearing_date',\n",
      "       'violation_code', 'violation_description', 'disposition', 'fine_amount',\n",
      "       'admin_fee', 'state_fee', 'late_fee', 'discount_amount',\n",
      "       'clean_up_cost', 'judgment_amount', 'payment_amount', 'balance_due',\n",
      "       'payment_date', 'payment_status', 'collection_status',\n",
      "       'grafitti_status', 'compliance_detail', 'compliance'],\n",
      "      dtype='object')\n",
      "Index(['ticket_id', 'agency_name', 'inspector_name', 'violator_name',\n",
      "       'violation_street_number', 'violation_street_name',\n",
      "       'violation_zip_code', 'mailing_address_str_number',\n",
      "       'mailing_address_str_name', 'city', 'state', 'zip_code',\n",
      "       'non_us_str_code', 'country', 'ticket_issued_date', 'hearing_date',\n",
      "       'violation_code', 'violation_description', 'disposition', 'fine_amount',\n",
      "       'admin_fee', 'state_fee', 'late_fee', 'discount_amount',\n",
      "       'clean_up_cost', 'judgment_amount', 'grafitti_status'],\n",
      "      dtype='object')\n",
      "Index(['address', 'lat', 'lon'], dtype='object')\n",
      "Index(['ticket_id', 'address'], dtype='object')\n",
      "(250306, 34)\n",
      "(61001, 27)\n"
     ]
    }
   ],
   "source": [
    "#import pandas as pd\n",
    "#import numpy as np\n",
    "\n",
    "train = pd.read_csv('train.csv',encoding='ISO-8859-1')\n",
    "\n",
    "#! cat readonly/test.csv > test.csv\n",
    "test = pd.read_csv('test.csv', encoding='cp1252')\n",
    "\n",
    "#! cat readonly/latlons.csv > latlons.csv\n",
    "latlon = pd.read_csv('latlons.csv')\n",
    "\n",
    "#! cat readonly/addresses.csv > addresses.csv\n",
    "address = pd.read_csv('addresses.csv')\n",
    "\n",
    "#Check dataframes's initial columns and shapes\n",
    "print(train.columns)\n",
    "print(test.columns)\n",
    "print(latlon.columns)\n",
    "print(address.columns)\n",
    "print(train.shape)\n",
    "print(test.shape)"
   ]
  },
  {
   "cell_type": "code",
   "execution_count": 43,
   "metadata": {
    "collapsed": false
   },
   "outputs": [
    {
     "name": "stdout",
     "output_type": "stream",
     "text": [
      "(159880, 32)\n"
     ]
    },
    {
     "data": {
      "text/html": [
       "<div>\n",
       "<table border=\"1\" class=\"dataframe\">\n",
       "  <thead>\n",
       "    <tr style=\"text-align: right;\">\n",
       "      <th></th>\n",
       "      <th>Percent</th>\n",
       "    </tr>\n",
       "  </thead>\n",
       "  <tbody>\n",
       "    <tr>\n",
       "      <th>non_us_str_code</th>\n",
       "      <td>0.999981</td>\n",
       "    </tr>\n",
       "    <tr>\n",
       "      <th>collection_status</th>\n",
       "      <td>0.769221</td>\n",
       "    </tr>\n",
       "    <tr>\n",
       "      <th>payment_date</th>\n",
       "      <td>0.752245</td>\n",
       "    </tr>\n",
       "    <tr>\n",
       "      <th>mailing_address_str_number</th>\n",
       "      <td>0.015999</td>\n",
       "    </tr>\n",
       "    <tr>\n",
       "      <th>hearing_date</th>\n",
       "      <td>0.001420</td>\n",
       "    </tr>\n",
       "  </tbody>\n",
       "</table>\n",
       "</div>"
      ],
      "text/plain": [
       "                             Percent\n",
       "non_us_str_code             0.999981\n",
       "collection_status           0.769221\n",
       "payment_date                0.752245\n",
       "mailing_address_str_number  0.015999\n",
       "hearing_date                0.001420"
      ]
     },
     "execution_count": 43,
     "metadata": {},
     "output_type": "execute_result"
    }
   ],
   "source": [
    "#Drop null-values compliance (NaN)\n",
    "train = train.dropna(subset=['compliance'])\n",
    "\n",
    "#Drop all columns with NaN\n",
    "train = train.dropna(axis = 1,how  = 'all')\n",
    "print(train.shape)\n",
    "\n",
    "#Calculate total and percent missing data per features\n",
    "percentagenull = (train.isnull().sum()/train.isnull().count()).sort_values(ascending = False)\n",
    "missing_data = pd.concat([percentagenull], axis=1, keys = ['Percent'])\n",
    "missing_data.head(5)"
   ]
  },
  {
   "cell_type": "code",
   "execution_count": 44,
   "metadata": {
    "collapsed": false
   },
   "outputs": [],
   "source": [
    "#Get rid of columns with >50% missing data\n",
    "train.drop(missing_data[missing_data['Percent']>0.5].index,axis = 1,inplace = True)"
   ]
  },
  {
   "cell_type": "code",
   "execution_count": 45,
   "metadata": {
    "collapsed": false
   },
   "outputs": [
    {
     "name": "stdout",
     "output_type": "stream",
     "text": [
      "admin_fee\n",
      "state_fee\n",
      "clean_up_cost\n"
     ]
    }
   ],
   "source": [
    "#Delete columns which have all values same\n",
    "length = len(train.columns)\n",
    "for i in range (length):\n",
    "    if len(train[train.columns[i]].unique()) == 1:\n",
    "         print(train.columns[i])\n",
    "            \n",
    "train.drop(labels = 'clean_up_cost' ,axis = 1,inplace = True)\n",
    "test.drop(labels = 'clean_up_cost' ,axis = 1,inplace = True)\n",
    "train.drop(labels = 'state_fee' ,axis = 1,inplace = True)\n",
    "test.drop(labels = 'state_fee' ,axis = 1,inplace = True)\n",
    "train.drop(labels = 'admin_fee' ,axis = 1,inplace = True)\n",
    "test.drop(labels = 'admin_fee' ,axis = 1,inplace = True)"
   ]
  },
  {
   "cell_type": "code",
   "execution_count": 46,
   "metadata": {
    "collapsed": false
   },
   "outputs": [
    {
     "name": "stdout",
     "output_type": "stream",
     "text": [
      "(159880, 29)\n",
      "(61001, 27)\n"
     ]
    }
   ],
   "source": [
    "#Merge train/test and (address + latlon) dataframes\n",
    "train = pd.merge(train, pd.merge(latlon, address, how='inner', on = 'address'), on = 'ticket_id')\n",
    "test = pd.merge(test, pd.merge(latlon, address, how='inner', on = 'address'), on = 'ticket_id')\n",
    "print(train.shape)\n",
    "print(test.shape)"
   ]
  },
  {
   "cell_type": "code",
   "execution_count": 47,
   "metadata": {
    "collapsed": false
   },
   "outputs": [
    {
     "name": "stdout",
     "output_type": "stream",
     "text": [
      "Index(['ticket_id', 'agency_name', 'inspector_name', 'violator_name',\n",
      "       'violation_street_number', 'violation_street_name',\n",
      "       'mailing_address_str_number', 'mailing_address_str_name', 'city',\n",
      "       'state', 'zip_code', 'country', 'ticket_issued_date', 'hearing_date',\n",
      "       'violation_code', 'violation_description', 'disposition', 'fine_amount',\n",
      "       'late_fee', 'discount_amount', 'judgment_amount', 'payment_amount',\n",
      "       'balance_due', 'payment_status', 'compliance_detail', 'compliance',\n",
      "       'address', 'lat', 'lon'],\n",
      "      dtype='object')\n",
      "Index(['ticket_id', 'agency_name', 'inspector_name', 'violator_name',\n",
      "       'violation_street_number', 'violation_street_name',\n",
      "       'violation_zip_code', 'mailing_address_str_number',\n",
      "       'mailing_address_str_name', 'city', 'state', 'zip_code',\n",
      "       'non_us_str_code', 'country', 'ticket_issued_date', 'hearing_date',\n",
      "       'violation_code', 'violation_description', 'disposition', 'fine_amount',\n",
      "       'late_fee', 'discount_amount', 'judgment_amount', 'grafitti_status',\n",
      "       'address', 'lat', 'lon'],\n",
      "      dtype='object')\n"
     ]
    }
   ],
   "source": [
    "# Let's check again new dataframe's features\n",
    "print(train.columns)\n",
    "print(test.columns)"
   ]
  },
  {
   "cell_type": "code",
   "execution_count": 48,
   "metadata": {
    "collapsed": false
   },
   "outputs": [
    {
     "name": "stdout",
     "output_type": "stream",
     "text": [
      "(159880, 7)\n",
      "(61001, 6)\n"
     ]
    }
   ],
   "source": [
    "# Remove useless variables from both train and test dataframes\n",
    "remove = ['balance_due', 'payment_status', 'compliance_detail', 'agency_name', 'inspector_name', \n",
    "'violator_name', 'violation_street_name', 'mailing_address_str_name', 'city', 'violation_street_number',\n",
    " 'state', 'zip_code', 'country',  'ticket_issued_date', 'hearing_date', 'violation_description',\n",
    " 'discount_amount', 'payment_amount', 'disposition', 'address', 'violation_code', 'mailing_address_str_number']\n",
    "\n",
    "removetest = ['non_us_str_code', 'agency_name', 'inspector_name', 'violator_name', 'violation_street_name', \n",
    "              'mailing_address_str_name', 'city', 'violation_street_number','state', 'zip_code', 'country', \n",
    "              'ticket_issued_date', 'hearing_date', 'violation_description', 'discount_amount',\n",
    "             'grafitti_status', 'violation_zip_code', 'disposition', 'address', 'violation_code', 'mailing_address_str_number']\n",
    "train.drop(remove, axis = 1, inplace = True)\n",
    "test.drop(removetest, axis = 1, inplace = True)\n",
    "print(train.shape)\n",
    "print(test.shape)"
   ]
  },
  {
   "cell_type": "code",
   "execution_count": 49,
   "metadata": {
    "collapsed": false
   },
   "outputs": [],
   "source": [
    "## Fill lat and long missing values with mean of the feature \n",
    "test['lat'] = test['lat'].fillna(test['lat'].mean())\n",
    "train['lat'] = train['lat'].fillna(train['lat'].mean())\n",
    "\n",
    "test['lon'] = test['lon'].fillna(test['lon'].mean())\n",
    "train['lon'] = train['lon'].fillna(train['lon'].mean())\n",
    "\n",
    "#print(train.isnull().sum())\n",
    "#print(test.isnull().sum())"
   ]
  },
  {
   "cell_type": "code",
   "execution_count": 50,
   "metadata": {
    "collapsed": false
   },
   "outputs": [],
   "source": [
    "#Set target value\n",
    "y_train = train['compliance']\n",
    "# Drop target value from training dataframe\n",
    "X_train = train.drop(['compliance'], axis=1)\n",
    "#Dataframe to test the model\n",
    "X_test = test"
   ]
  },
  {
   "cell_type": "code",
   "execution_count": 51,
   "metadata": {
    "collapsed": true
   },
   "outputs": [],
   "source": [
    "from sklearn.preprocessing import MinMaxScaler\n",
    "from sklearn.model_selection import train_test_split\n",
    "\n",
    "#Split the data\n",
    "X_train, X_test, y_train, y_test = train_test_split(X_train, y_train, random_state=0)\n",
    "\n",
    "#Normalize features\n",
    "scaler = MinMaxScaler()\n",
    "X_train_scaled = scaler.fit_transform(X_train)\n",
    "X_test_scaled = scaler.transform(X_test)"
   ]
  },
  {
   "cell_type": "code",
   "execution_count": 18,
   "metadata": {
    "collapsed": false
   },
   "outputs": [
    {
     "name": "stdout",
     "output_type": "stream",
     "text": [
      "Accuracy of Dummy classifier on training set: 0.93\n",
      "Accuracy of Dummy classifier on test set: 0.93\n",
      "ROC AUC score Dummy classifier on test set: 0.50\n"
     ]
    }
   ],
   "source": [
    "from sklearn.dummy import DummyClassifier\n",
    "from sklearn.metrics import roc_auc_score\n",
    "\n",
    "#Let's fit a Dummy model in order to make future comparisons\n",
    "dummy_majority = DummyClassifier(strategy = 'most_frequent').fit(X_train, y_train)\n",
    "y_majority_predicted = dummy_majority.predict(X_test)\n",
    "print('Accuracy of Dummy classifier on training set: {:.2f}'\n",
    "     .format(dummy_majority.score(X_train_scaled, y_train)))\n",
    "print('Accuracy of Dummy classifier on test set: {:.2f}'\n",
    "     .format(dummy_majority.score(X_test_scaled, y_test)))\n",
    "print('ROC AUC score Dummy classifier on test set: {:.2f}'\n",
    "     .format(roc_auc_score(y_test, y_majority_predicted)))"
   ]
  },
  {
   "cell_type": "code",
   "execution_count": 21,
   "metadata": {
    "collapsed": false
   },
   "outputs": [
    {
     "name": "stdout",
     "output_type": "stream",
     "text": [
      "Accuracy of K-NN classifier on training set: 0.94\n",
      "Accuracy of K-NN classifier on test set: 0.93\n",
      "ROC AUC score K-NN classifier on test set: 0.50\n"
     ]
    }
   ],
   "source": [
    "from sklearn.neighbors import KNeighborsClassifier\n",
    "\n",
    "# Running K-nearest neighbors model\n",
    "knn = KNeighborsClassifier(n_neighbors = 5)\n",
    "knn.fit(X_train_scaled, y_train)\n",
    "ypred = knn.predict(X_test)\n",
    "\n",
    "print('Accuracy of K-NN classifier on training set: {:.2f}'\n",
    "     .format(knn.score(X_train_scaled, y_train)))\n",
    "print('Accuracy of K-NN classifier on test set: {:.2f}'\n",
    "     .format(knn.score(X_test_scaled, y_test)))\n",
    "print('ROC AUC score K-NN classifier on test set: {:.2f}'\n",
    "     .format(roc_auc_score(y_test, ypred)))"
   ]
  },
  {
   "cell_type": "code",
   "execution_count": 20,
   "metadata": {
    "collapsed": false
   },
   "outputs": [
    {
     "name": "stdout",
     "output_type": "stream",
     "text": [
      "Accuracy of Linear SVC classifier on training set: 0.93\n",
      "Accuracy of Linear SVC classifier on test set: 0.93\n",
      "ROC AUC score Linear SVC classifier on test set: 0.50\n"
     ]
    }
   ],
   "source": [
    "from sklearn.svm import LinearSVC\n",
    "clf = LinearSVC().fit(X_train, y_train)\n",
    "ypred = clf.predict(X_test)\n",
    "\n",
    "# Running Support Vector Machines Model\n",
    "print('Accuracy of Linear SVC classifier on training set: {:.2f}'\n",
    "     .format(clf.score(X_train, y_train)))\n",
    "print('Accuracy of Linear SVC classifier on test set: {:.2f}'\n",
    "     .format(clf.score(X_test, y_test)))\n",
    "print('ROC AUC score Linear SVC classifier on test set: {:.2f}'\n",
    "     .format(roc_auc_score(y_test, ypred)))"
   ]
  },
  {
   "cell_type": "code",
   "execution_count": 37,
   "metadata": {
    "collapsed": false
   },
   "outputs": [
    {
     "name": "stdout",
     "output_type": "stream",
     "text": [
      "Accuracy of NN classifier on training set: 0.93\n",
      "Accuracy of NN classifier on test set: 0.93\n",
      "ROC AUC score NN classifier on test set: 0.50\n"
     ]
    }
   ],
   "source": [
    "from sklearn.neural_network import MLPClassifier\n",
    "\n",
    "#Running Neural Network Model \n",
    "clf = MLPClassifier(hidden_layer_sizes = [10, 10], alpha = 0.01,\n",
    "                   random_state = 0, solver = 'lbfgs').fit(X_train_scaled, y_train)\n",
    "ypred = clf.predict(X_test)\n",
    "print('Accuracy of NN classifier on training set: {:.2f}'\n",
    "     .format(clf.score(X_train_scaled, y_train)))\n",
    "print('Accuracy of NN classifier on test set: {:.2f}'\n",
    "     .format(clf.score(X_test_scaled, y_test)))\n",
    "print('ROC AUC score NN classifier on test set: {:.2f}'\n",
    "     .format(roc_auc_score(y_test, ypred)))"
   ]
  },
  {
   "cell_type": "code",
   "execution_count": 29,
   "metadata": {
    "collapsed": false
   },
   "outputs": [
    {
     "name": "stdout",
     "output_type": "stream",
     "text": [
      "Accuracy of RF classifier on training set: 0.07\n",
      "Accuracy of RF classifier on test set: 0.07\n",
      "ROC AUC score of RF classifier on test set: 0.79\n"
     ]
    }
   ],
   "source": [
    "from sklearn.ensemble import RandomForestRegressor\n",
    "\n",
    "#Running Random Forest Model \n",
    "reg = RandomForestRegressor(max_depth = 10,random_state=0).fit(X_train, y_train)\n",
    "ypred = reg.predict(X_test)\n",
    "print('Accuracy of RF classifier on training set: {:.2f}'\n",
    "     .format(clf.score(X_train_scaled, y_train)))\n",
    "print('Accuracy of RF classifier on test set: {:.2f}'\n",
    "     .format(clf.score(X_test_scaled, y_test)))\n",
    "print('ROC AUC score of RF classifier on test set: {:.2f}'\n",
    "     .format(roc_auc_score(y_test, ypred)))\n",
    "#WE GOT THE BEST ROC AUC SCORE! "
   ]
  },
  {
   "cell_type": "code",
   "execution_count": 52,
   "metadata": {
    "collapsed": false
   },
   "outputs": [
    {
     "name": "stdout",
     "output_type": "stream",
     "text": [
      "Grid best parameter (max. AUC):  {'max_depth': 30, 'n_estimators': 100}\n",
      "Grid best score (AUC):  0.800475783592\n"
     ]
    }
   ],
   "source": [
    "from sklearn.model_selection import  GridSearchCV\n",
    "\n",
    "#Grid Search for finding Optimal Values\n",
    "reg = RandomForestRegressor(max_depth = 10,random_state=0).fit(X_train, y_train)\n",
    "grid_values = {'n_estimators': [10, 100], 'max_depth': [None, 30]}\n",
    "grid_clf_auc = GridSearchCV(reg, param_grid=grid_values, scoring='roc_auc')\n",
    "grid_clf_auc.fit(X_train, y_train)\n",
    "print('Grid best parameter (max. AUC): ', grid_clf_auc.best_params_)\n",
    "print('Grid best score (AUC): ', grid_clf_auc.best_score_)"
   ]
  },
  {
   "cell_type": "code",
   "execution_count": 53,
   "metadata": {
    "collapsed": false
   },
   "outputs": [],
   "source": [
    "## (Random Forest results)\n",
    "df = pd.DataFrame(grid_clf_auc.predict(test), test.ticket_id)"
   ]
  },
  {
   "cell_type": "code",
   "execution_count": 2,
   "metadata": {
    "collapsed": false
   },
   "outputs": [
    {
     "name": "stderr",
     "output_type": "stream",
     "text": [
      "/opt/conda/lib/python3.6/site-packages/IPython/core/interactiveshell.py:2827: DtypeWarning: Columns (11,12,31) have mixed types. Specify dtype option on import or set low_memory=False.\n",
      "  if self.run_code(code, result):\n"
     ]
    },
    {
     "data": {
      "text/html": [
       "<div>\n",
       "<table border=\"1\" class=\"dataframe\">\n",
       "  <thead>\n",
       "    <tr style=\"text-align: right;\">\n",
       "      <th></th>\n",
       "      <th>0</th>\n",
       "    </tr>\n",
       "    <tr>\n",
       "      <th>ticket_id</th>\n",
       "      <th></th>\n",
       "    </tr>\n",
       "  </thead>\n",
       "  <tbody>\n",
       "    <tr>\n",
       "      <th>284932</th>\n",
       "      <td>0.000000</td>\n",
       "    </tr>\n",
       "    <tr>\n",
       "      <th>285362</th>\n",
       "      <td>0.010000</td>\n",
       "    </tr>\n",
       "    <tr>\n",
       "      <th>285361</th>\n",
       "      <td>0.240000</td>\n",
       "    </tr>\n",
       "    <tr>\n",
       "      <th>285338</th>\n",
       "      <td>0.410000</td>\n",
       "    </tr>\n",
       "    <tr>\n",
       "      <th>285346</th>\n",
       "      <td>0.420000</td>\n",
       "    </tr>\n",
       "    <tr>\n",
       "      <th>285345</th>\n",
       "      <td>0.360000</td>\n",
       "    </tr>\n",
       "    <tr>\n",
       "      <th>285347</th>\n",
       "      <td>0.270000</td>\n",
       "    </tr>\n",
       "    <tr>\n",
       "      <th>285342</th>\n",
       "      <td>0.160000</td>\n",
       "    </tr>\n",
       "    <tr>\n",
       "      <th>285530</th>\n",
       "      <td>0.170000</td>\n",
       "    </tr>\n",
       "    <tr>\n",
       "      <th>284989</th>\n",
       "      <td>0.100000</td>\n",
       "    </tr>\n",
       "    <tr>\n",
       "      <th>285344</th>\n",
       "      <td>0.330000</td>\n",
       "    </tr>\n",
       "    <tr>\n",
       "      <th>285343</th>\n",
       "      <td>0.110000</td>\n",
       "    </tr>\n",
       "    <tr>\n",
       "      <th>285340</th>\n",
       "      <td>0.120000</td>\n",
       "    </tr>\n",
       "    <tr>\n",
       "      <th>285341</th>\n",
       "      <td>0.280000</td>\n",
       "    </tr>\n",
       "    <tr>\n",
       "      <th>285349</th>\n",
       "      <td>0.400000</td>\n",
       "    </tr>\n",
       "    <tr>\n",
       "      <th>285348</th>\n",
       "      <td>0.350000</td>\n",
       "    </tr>\n",
       "    <tr>\n",
       "      <th>284991</th>\n",
       "      <td>0.100000</td>\n",
       "    </tr>\n",
       "    <tr>\n",
       "      <th>285532</th>\n",
       "      <td>0.120000</td>\n",
       "    </tr>\n",
       "    <tr>\n",
       "      <th>285406</th>\n",
       "      <td>0.010287</td>\n",
       "    </tr>\n",
       "    <tr>\n",
       "      <th>285001</th>\n",
       "      <td>0.020000</td>\n",
       "    </tr>\n",
       "    <tr>\n",
       "      <th>285006</th>\n",
       "      <td>0.040000</td>\n",
       "    </tr>\n",
       "    <tr>\n",
       "      <th>285405</th>\n",
       "      <td>0.010000</td>\n",
       "    </tr>\n",
       "    <tr>\n",
       "      <th>285337</th>\n",
       "      <td>0.110000</td>\n",
       "    </tr>\n",
       "    <tr>\n",
       "      <th>285496</th>\n",
       "      <td>0.290000</td>\n",
       "    </tr>\n",
       "    <tr>\n",
       "      <th>285497</th>\n",
       "      <td>0.320000</td>\n",
       "    </tr>\n",
       "    <tr>\n",
       "      <th>285378</th>\n",
       "      <td>0.000000</td>\n",
       "    </tr>\n",
       "    <tr>\n",
       "      <th>285589</th>\n",
       "      <td>0.140000</td>\n",
       "    </tr>\n",
       "    <tr>\n",
       "      <th>285585</th>\n",
       "      <td>0.240000</td>\n",
       "    </tr>\n",
       "    <tr>\n",
       "      <th>285501</th>\n",
       "      <td>0.320000</td>\n",
       "    </tr>\n",
       "    <tr>\n",
       "      <th>285581</th>\n",
       "      <td>0.000000</td>\n",
       "    </tr>\n",
       "    <tr>\n",
       "      <th>...</th>\n",
       "      <td>...</td>\n",
       "    </tr>\n",
       "    <tr>\n",
       "      <th>376367</th>\n",
       "      <td>0.020000</td>\n",
       "    </tr>\n",
       "    <tr>\n",
       "      <th>376366</th>\n",
       "      <td>0.231252</td>\n",
       "    </tr>\n",
       "    <tr>\n",
       "      <th>376362</th>\n",
       "      <td>0.300506</td>\n",
       "    </tr>\n",
       "    <tr>\n",
       "      <th>376363</th>\n",
       "      <td>0.510000</td>\n",
       "    </tr>\n",
       "    <tr>\n",
       "      <th>376365</th>\n",
       "      <td>0.020000</td>\n",
       "    </tr>\n",
       "    <tr>\n",
       "      <th>376364</th>\n",
       "      <td>0.231252</td>\n",
       "    </tr>\n",
       "    <tr>\n",
       "      <th>376228</th>\n",
       "      <td>0.280000</td>\n",
       "    </tr>\n",
       "    <tr>\n",
       "      <th>376265</th>\n",
       "      <td>0.191701</td>\n",
       "    </tr>\n",
       "    <tr>\n",
       "      <th>376286</th>\n",
       "      <td>0.350000</td>\n",
       "    </tr>\n",
       "    <tr>\n",
       "      <th>376320</th>\n",
       "      <td>0.300436</td>\n",
       "    </tr>\n",
       "    <tr>\n",
       "      <th>376314</th>\n",
       "      <td>0.370000</td>\n",
       "    </tr>\n",
       "    <tr>\n",
       "      <th>376327</th>\n",
       "      <td>0.300000</td>\n",
       "    </tr>\n",
       "    <tr>\n",
       "      <th>376385</th>\n",
       "      <td>0.250000</td>\n",
       "    </tr>\n",
       "    <tr>\n",
       "      <th>376435</th>\n",
       "      <td>0.390000</td>\n",
       "    </tr>\n",
       "    <tr>\n",
       "      <th>376370</th>\n",
       "      <td>0.310000</td>\n",
       "    </tr>\n",
       "    <tr>\n",
       "      <th>376434</th>\n",
       "      <td>0.410000</td>\n",
       "    </tr>\n",
       "    <tr>\n",
       "      <th>376459</th>\n",
       "      <td>0.370000</td>\n",
       "    </tr>\n",
       "    <tr>\n",
       "      <th>376478</th>\n",
       "      <td>0.000000</td>\n",
       "    </tr>\n",
       "    <tr>\n",
       "      <th>376473</th>\n",
       "      <td>0.490073</td>\n",
       "    </tr>\n",
       "    <tr>\n",
       "      <th>376484</th>\n",
       "      <td>0.130000</td>\n",
       "    </tr>\n",
       "    <tr>\n",
       "      <th>376482</th>\n",
       "      <td>0.090000</td>\n",
       "    </tr>\n",
       "    <tr>\n",
       "      <th>376480</th>\n",
       "      <td>0.090000</td>\n",
       "    </tr>\n",
       "    <tr>\n",
       "      <th>376479</th>\n",
       "      <td>0.090000</td>\n",
       "    </tr>\n",
       "    <tr>\n",
       "      <th>376481</th>\n",
       "      <td>0.090000</td>\n",
       "    </tr>\n",
       "    <tr>\n",
       "      <th>376483</th>\n",
       "      <td>0.330117</td>\n",
       "    </tr>\n",
       "    <tr>\n",
       "      <th>376496</th>\n",
       "      <td>0.000000</td>\n",
       "    </tr>\n",
       "    <tr>\n",
       "      <th>376497</th>\n",
       "      <td>0.000000</td>\n",
       "    </tr>\n",
       "    <tr>\n",
       "      <th>376499</th>\n",
       "      <td>0.260000</td>\n",
       "    </tr>\n",
       "    <tr>\n",
       "      <th>376500</th>\n",
       "      <td>0.260000</td>\n",
       "    </tr>\n",
       "    <tr>\n",
       "      <th>369851</th>\n",
       "      <td>0.280000</td>\n",
       "    </tr>\n",
       "  </tbody>\n",
       "</table>\n",
       "<p>61001 rows × 1 columns</p>\n",
       "</div>"
      ],
      "text/plain": [
       "                  0\n",
       "ticket_id          \n",
       "284932     0.000000\n",
       "285362     0.010000\n",
       "285361     0.240000\n",
       "285338     0.410000\n",
       "285346     0.420000\n",
       "285345     0.360000\n",
       "285347     0.270000\n",
       "285342     0.160000\n",
       "285530     0.170000\n",
       "284989     0.100000\n",
       "285344     0.330000\n",
       "285343     0.110000\n",
       "285340     0.120000\n",
       "285341     0.280000\n",
       "285349     0.400000\n",
       "285348     0.350000\n",
       "284991     0.100000\n",
       "285532     0.120000\n",
       "285406     0.010287\n",
       "285001     0.020000\n",
       "285006     0.040000\n",
       "285405     0.010000\n",
       "285337     0.110000\n",
       "285496     0.290000\n",
       "285497     0.320000\n",
       "285378     0.000000\n",
       "285589     0.140000\n",
       "285585     0.240000\n",
       "285501     0.320000\n",
       "285581     0.000000\n",
       "...             ...\n",
       "376367     0.020000\n",
       "376366     0.231252\n",
       "376362     0.300506\n",
       "376363     0.510000\n",
       "376365     0.020000\n",
       "376364     0.231252\n",
       "376228     0.280000\n",
       "376265     0.191701\n",
       "376286     0.350000\n",
       "376320     0.300436\n",
       "376314     0.370000\n",
       "376327     0.300000\n",
       "376385     0.250000\n",
       "376435     0.390000\n",
       "376370     0.310000\n",
       "376434     0.410000\n",
       "376459     0.370000\n",
       "376478     0.000000\n",
       "376473     0.490073\n",
       "376484     0.130000\n",
       "376482     0.090000\n",
       "376480     0.090000\n",
       "376479     0.090000\n",
       "376481     0.090000\n",
       "376483     0.330117\n",
       "376496     0.000000\n",
       "376497     0.000000\n",
       "376499     0.260000\n",
       "376500     0.260000\n",
       "369851     0.280000\n",
       "\n",
       "[61001 rows x 1 columns]"
      ]
     },
     "execution_count": 2,
     "metadata": {},
     "output_type": "execute_result"
    }
   ],
   "source": [
    "#def blight_model():\n",
    "    import pandas as pd\n",
    "    import numpy as np\n",
    "    from sklearn.preprocessing import MinMaxScaler\n",
    "    from sklearn.model_selection import train_test_split\n",
    "    from sklearn.ensemble import RandomForestRegressor\n",
    "    from sklearn.model_selection import GridSearchCV\n",
    "    from sklearn.metrics import roc_auc_score\n",
    "\n",
    "\n",
    "    train = pd.read_csv('train.csv',encoding='ISO-8859-1')\n",
    "    test = pd.read_csv('test.csv', encoding='cp1252')\n",
    "    latlon = pd.read_csv('latlons.csv')\n",
    "    address = pd.read_csv('addresses.csv')\n",
    "    \n",
    "    for i in range(len(train.columns)): \n",
    "        if len(train[train.columns[i]].unique()) < 250:\n",
    "            train[train.columns[i]] = train[train.columns[i]] .astype('category')\n",
    "        \n",
    "    train = train.dropna(subset=['compliance'])\n",
    "    train = train.dropna(axis = 1,how  = 'all')\n",
    "\n",
    "    percentagenull = (train.isnull().sum()/train.isnull().count()).sort_values(ascending = False)\n",
    "    missing_data = pd.concat([percentagenull], axis=1, keys = ['Percent'])\n",
    "    \n",
    "    train.drop(missing_data[missing_data['Percent']>0.5].index,axis = 1,inplace = True)\n",
    "            \n",
    "    train.drop(labels = 'clean_up_cost' ,axis = 1,inplace = True)\n",
    "    test.drop(labels = 'clean_up_cost' ,axis = 1,inplace = True)\n",
    "    train.drop(labels = 'state_fee' ,axis = 1,inplace = True)\n",
    "    test.drop(labels = 'state_fee' ,axis = 1,inplace = True)\n",
    "    train.drop(labels = 'admin_fee' ,axis = 1,inplace = True)\n",
    "    test.drop(labels = 'admin_fee' ,axis = 1,inplace = True)\n",
    "    \n",
    "    train = pd.merge(train, pd.merge(latlon, address, how='inner', on = 'address'), on = 'ticket_id')\n",
    "    test = pd.merge(test, pd.merge(latlon, address, how='inner', on = 'address'), on = 'ticket_id')\n",
    "    \n",
    "    remove = ['balance_due', 'payment_status', 'compliance_detail', 'agency_name', 'inspector_name', \n",
    "              'violator_name', 'violation_street_name', 'mailing_address_str_name', 'city', 'violation_street_number',\n",
    "              'state', 'zip_code', 'country',  'ticket_issued_date', 'hearing_date', 'violation_description',\n",
    "              'discount_amount', 'payment_amount', 'disposition', 'address', 'violation_code', 'mailing_address_str_number']\n",
    "\n",
    "    removetest = ['non_us_str_code', 'agency_name', 'inspector_name', 'violator_name', 'violation_street_name', \n",
    "                  'mailing_address_str_name', 'city', 'violation_street_number','state', 'zip_code', 'country', \n",
    "                  'ticket_issued_date', 'hearing_date', 'violation_description', 'discount_amount',\n",
    "                 'grafitti_status', 'violation_zip_code', 'disposition', 'address', 'violation_code', 'mailing_address_str_number']\n",
    "    \n",
    "    train.drop(remove, axis = 1, inplace = True)\n",
    "    test.drop(removetest, axis = 1, inplace = True)\n",
    "    \n",
    "    test['lat'] = test['lat'].fillna(test['lat'].mean())\n",
    "    train['lat'] = train['lat'].fillna(train['lat'].mean())\n",
    "\n",
    "    test['lon'] = test['lon'].fillna(test['lon'].mean())\n",
    "    train['lon'] = train['lon'].fillna(train['lon'].mean())\n",
    "    \n",
    "    y_train = train['compliance']\n",
    "    X_train = train.drop(['compliance'], axis=1)\n",
    "    X_test = test\n",
    "    \n",
    "    X_train, X_test, y_train, y_test = train_test_split(X_train, y_train, random_state=0)\n",
    "\n",
    "    scaler = MinMaxScaler()\n",
    "    X_train_scaled = scaler.fit_transform(X_train)\n",
    "    X_test_scaled = scaler.transform(X_test)\n",
    "    \n",
    "    reg = RandomForestRegressor(max_depth = 10,random_state=0).fit(X_train, y_train)\n",
    "    grid_values = {'n_estimators': [10, 100], 'max_depth': [None, 30]}\n",
    "    grid_clf_auc = GridSearchCV(reg, param_grid=grid_values, scoring='roc_auc')\n",
    "    grid_clf_auc.fit(X_train, y_train)\n",
    "    \n",
    "    df = pd.DataFrame(grid_clf_auc.predict(test), test.ticket_id)\n",
    "    return df\n",
    "#blight_model()"
   ]
  },
  {
   "cell_type": "code",
   "execution_count": null,
   "metadata": {
    "collapsed": true
   },
   "outputs": [],
   "source": []
  }
 ],
 "metadata": {
  "coursera": {
   "course_slug": "python-machine-learning",
   "graded_item_id": "nNS8l",
   "launcher_item_id": "yWWk7",
   "part_id": "w8BSS"
  },
  "kernelspec": {
   "display_name": "Python 3",
   "language": "python",
   "name": "python3"
  },
  "language_info": {
   "codemirror_mode": {
    "name": "ipython",
    "version": 3
   },
   "file_extension": ".py",
   "mimetype": "text/x-python",
   "name": "python",
   "nbconvert_exporter": "python",
   "pygments_lexer": "ipython3",
   "version": "3.6.2"
  }
 },
 "nbformat": 4,
 "nbformat_minor": 2
}
